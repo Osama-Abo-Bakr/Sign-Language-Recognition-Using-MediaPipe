{
 "cells": [
  {
   "cell_type": "code",
   "execution_count": null,
   "id": "3f882a51",
   "metadata": {},
   "outputs": [],
   "source": [
    "import cv2\n",
    "import mediapipe as mp"
   ]
  },
  {
   "cell_type": "code",
   "execution_count": null,
   "id": "e020de4e",
   "metadata": {},
   "outputs": [],
   "source": [
    "mp_hand = mp.solutions.hands\n",
    "hands = mp_hand.Hands(min_detection_confidence=0.5, min_tracking_confidence=0.5)\n",
    "draw_utils = mp.solutions.drawing_utils\n",
    "\n",
    "tips_finger = [8, 12, 16, 20]\n",
    "video = cv2.VideoCapture(0)\n",
    "\n",
    "finger_tips = [8, 12, 16, 20]\n",
    "thumb_tip = 4"
   ]
  },
  {
   "cell_type": "code",
   "execution_count": null,
   "id": "31d235c4",
   "metadata": {},
   "outputs": [],
   "source": [
    "while True:\n",
    "    _, image = video.read()\n",
    "\n",
    "    image_rgb = cv2.cvtColor(image, cv2.COLOR_BGR2RGB)\n",
    "    result = hands.process(image_rgb)\n",
    "    h, w, c = image.shape\n",
    "\n",
    "    if result.multi_hand_landmarks:\n",
    "        for hand_landmrak in result.multi_hand_landmarks:\n",
    "            lm_hands = []\n",
    "            for idd, lm in enumerate(hand_landmrak.landmark):\n",
    "                lm_hands.append(lm)\n",
    "\n",
    "            status_finger = []\n",
    "            for tip in tips_finger:\n",
    "                x, y = int(lm_hands[tip].x * w), int(lm_hands[tip].y * h)\n",
    "\n",
    "                cv2.circle(image, (x, y), 15, (255, 0, 0), cv2.FILLED)\n",
    "\n",
    "                if lm_hands[tip].x < lm_hands[tip-3].x:\n",
    "                    status_finger.append(True)\n",
    "                else: status_finger.append(False)\n",
    "\n",
    "\n",
    "            if lm_hands[2].y > lm_hands[4].y and lm_hands[8].y < lm_hands[6].y and lm_hands[12].y < lm_hands[10].y and lm_hands[16].y < lm_hands[14].y and lm_hands[20].y < lm_hands[18].y:\n",
    "                cv2.putText(image, \"Stop\", (20, 30), cv2.FONT_HERSHEY_SIMPLEX, 1, (0, 0, 255), 3)\n",
    "                print(\"Stop\")\n",
    "\n",
    "            if lm_hands[2].x > lm_hands[4].x and lm_hands[8].y < lm_hands[6].y and lm_hands[12].y > lm_hands[10].y and lm_hands[16].y > lm_hands[14].y and lm_hands[20].y > lm_hands[18].y:\n",
    "                cv2.putText(image, \"Forward\", (20, 30), cv2.FONT_HERSHEY_SIMPLEX, 1, (0, 0, 255), 3)\n",
    "                print(\"Forward\")\n",
    "\n",
    "            if lm_hands[3].x > lm_hands[4].x and lm_hands[3].y < lm_hands[4].y and lm_hands[8].y > lm_hands[6].y and lm_hands[12].y < lm_hands[10].y and lm_hands[16].y < lm_hands[14].y and lm_hands[20].y < lm_hands[18].y:\n",
    "                cv2.putText(image, \"Backward\", (20, 30), cv2.FONT_HERSHEY_SIMPLEX, 1, (0, 0, 255), 3)\n",
    "                print(\"Backward\")\n",
    "\n",
    "\n",
    "            if lm_hands[2].y > lm_hands[4].y and lm_hands[2].x > lm_hands[4].x and lm_hands[8].x > lm_hands[6].x and lm_hands[12].x < lm_hands[10].x and lm_hands[16].x < lm_hands[14].x and lm_hands[20].x < lm_hands[18].x:\n",
    "                cv2.putText(image, \"Left\", (20, 30), cv2.FONT_HERSHEY_SIMPLEX, 1, (0, 0, 255), 3)\n",
    "                print(\"Left\")\n",
    "\n",
    "            if lm_hands[2].y > lm_hands[4].y and lm_hands[8].x < lm_hands[6].x and lm_hands[12].x > lm_hands[10].x and lm_hands[16].x > lm_hands[14].x and lm_hands[20].x > lm_hands[18].x:\n",
    "                cv2.putText(image, \"Right\", (20, 30), cv2.FONT_HERSHEY_SIMPLEX, 1, (0, 0, 255), 3)\n",
    "                print(\"Right\")\n",
    "\n",
    "            draw_utils.draw_landmarks(image, hand_landmrak,\n",
    "                                   mp_hand.HAND_CONNECTIONS,\n",
    "                                   draw_utils.DrawingSpec((0, 0, 255), 6, 3),\n",
    "                                   draw_utils.DrawingSpec((0, 255, 0), 4, 2)\n",
    "                                   )\n",
    "\n",
    "    cv2.imshow(\"Hand Sign Detection\", image)\n",
    "    if cv2.waitKey(1) == ord('o'):\n",
    "        break\n",
    "\n",
    "video.release()\n",
    "cv2.destroyAllWindows()"
   ]
  }
 ],
 "metadata": {
  "kernelspec": {
   "display_name": "Python 3 (ipykernel)",
   "language": "python",
   "name": "python3"
  },
  "language_info": {
   "codemirror_mode": {
    "name": "ipython",
    "version": 3
   },
   "file_extension": ".py",
   "mimetype": "text/x-python",
   "name": "python",
   "nbconvert_exporter": "python",
   "pygments_lexer": "ipython3",
   "version": "3.10.9"
  }
 },
 "nbformat": 4,
 "nbformat_minor": 5
}
